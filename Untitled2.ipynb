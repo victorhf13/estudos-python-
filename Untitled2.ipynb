{
  "nbformat": 4,
  "nbformat_minor": 0,
  "metadata": {
    "colab": {
      "provenance": [],
      "authorship_tag": "ABX9TyNp50LSVRDtQkztCiCcfqLo",
      "include_colab_link": true
    },
    "kernelspec": {
      "name": "python3",
      "display_name": "Python 3"
    },
    "language_info": {
      "name": "python"
    }
  },
  "cells": [
    {
      "cell_type": "markdown",
      "metadata": {
        "id": "view-in-github",
        "colab_type": "text"
      },
      "source": [
        "<a href=\"https://colab.research.google.com/github/victorhf13/estudos-python-/blob/main/Untitled2.ipynb\" target=\"_parent\"><img src=\"https://colab.research.google.com/assets/colab-badge.svg\" alt=\"Open In Colab\"/></a>"
      ]
    },
    {
      "cell_type": "markdown",
      "source": [],
      "metadata": {
        "id": "pu-r7q-Zo3oe"
      }
    },
    {
      "cell_type": "markdown",
      "source": [
        "1) Escreva um programa que peça dois números inteiros e imprima todos os números inteiros entre eles."
      ],
      "metadata": {
        "id": "OHPzzuslo6Lz"
      }
    },
    {
      "cell_type": "code",
      "execution_count": 1,
      "metadata": {
        "colab": {
          "base_uri": "https://localhost:8080/"
        },
        "id": "Ve1mT1M0dS0m",
        "outputId": "635209ea-0458-4243-efb3-bc86b84abff6"
      },
      "outputs": [
        {
          "output_type": "stream",
          "name": "stdout",
          "text": [
            "Digite um número: 10\n",
            "Digite outro número: 50\n",
            "10\n",
            "11\n",
            "12\n",
            "13\n",
            "14\n",
            "15\n",
            "16\n",
            "17\n",
            "18\n",
            "19\n",
            "20\n",
            "21\n",
            "22\n",
            "23\n",
            "24\n",
            "25\n",
            "26\n",
            "27\n",
            "28\n",
            "29\n",
            "30\n",
            "31\n",
            "32\n",
            "33\n",
            "34\n",
            "35\n",
            "36\n",
            "37\n",
            "38\n",
            "39\n",
            "40\n",
            "41\n",
            "42\n",
            "43\n",
            "44\n",
            "45\n",
            "46\n",
            "47\n",
            "48\n",
            "49\n",
            "50\n"
          ]
        }
      ],
      "source": [
        "primeiro_numero = int(input(\"Digite um número: \"))\n",
        "segundo_numero = int(input(\"Digite outro número: \"))\n",
        "\n",
        "while primeiro_numero <= segundo_numero:\n",
        "  print(primeiro_numero)\n",
        "  primeiro_numero += 1"
      ]
    },
    {
      "cell_type": "markdown",
      "source": [
        "Escreva um programa para calcular quantos dias levará para a colônia de uma bactéria A ultrapassar ou igualar a colônia de uma bactéria B, com base nas taxas de crescimento de 3% e 1,5% respectivamente. Considere que a colônia A inicia com 4 elementos e a B com 10."
      ],
      "metadata": {
        "id": "zRnfnzW3oy2K"
      }
    },
    {
      "cell_type": "code",
      "source": [
        "# Taxas de crescimento\n",
        "taxa_A = 0.03   # 3%\n",
        "taxa_B = 0.015  # 1.5%\n",
        "\n",
        "# Populações iniciais\n",
        "A = 4\n",
        "B = 10\n",
        "\n",
        "# Contador de dias\n",
        "dias = 0\n",
        "\n",
        "# Enquanto A for menor que B, continua crescendo\n",
        "while A < B:\n",
        "    A = A + A * taxa_A\n",
        "    B = B + B * taxa_B\n",
        "    dias += 1\n",
        "\n",
        "print(f\"A colônia A ultrapassará ou igualará a colônia B em {dias} dias.\")\n",
        "print(f\"População final de A: {A:.2f}\")\n",
        "print(f\"População final de B: {B:.2f}\")\n"
      ],
      "metadata": {
        "colab": {
          "base_uri": "https://localhost:8080/"
        },
        "id": "CORV9OWWoJOQ",
        "outputId": "f8611d1c-1d89-418f-897b-a2c5e4e4f0a2"
      },
      "execution_count": 2,
      "outputs": [
        {
          "output_type": "stream",
          "name": "stdout",
          "text": [
            "A colônia A ultrapassará ou igualará a colônia B em 63 dias.\n",
            "População final de A: 25.75\n",
            "População final de B: 25.55\n"
          ]
        }
      ]
    },
    {
      "cell_type": "markdown",
      "source": [
        "3) Para tratar uma quantidade de 15 dados de avaliações de pessoas usuárias de um serviço da empresa, precisamos verificar se as notas são válidas. Então, escreva um programa que vai receber a nota de 0 a 5 de todos os dados e verificar se é um valor válido. Caso seja inserido uma nota acima de 5 ou abaixo de 0, repita até que a pessoa usuária insira um valor válido.\n",
        "\n"
      ],
      "metadata": {
        "id": "grY6EDkco86K"
      }
    },
    {
      "cell_type": "code",
      "source": [
        "notas = []  # lista para armazenar as notas\n",
        "total = 15  # quantidade de avaliações\n",
        "\n",
        "for i in range(total):\n",
        "    while True:  # repete até a nota ser válida\n",
        "        try:\n",
        "            nota = float(input(f\"Digite a nota {i+1} (0 a 5): \"))\n",
        "            if 0 <= nota <= 5:\n",
        "                notas.append(nota)\n",
        "                break  # sai do while, vai para a próxima nota2\n",
        "            else:\n",
        "                print(\"❌ Nota inválida! Digite um valor entre 0 e 5.\")\n",
        "        except ValueError:\n",
        "            print(\"❌ Entrada inválida! Digite apenas números.\")\n",
        "\n",
        "print(\"\\n✅ Todas as notas foram registradas com sucesso!\")\n",
        "print(\"Notas inseridas:\", notas)\n"
      ],
      "metadata": {
        "colab": {
          "base_uri": "https://localhost:8080/"
        },
        "id": "zcmTJOhApAGT",
        "outputId": "f433a1ea-020c-4651-efb3-e8f71884bc82"
      },
      "execution_count": 3,
      "outputs": [
        {
          "output_type": "stream",
          "name": "stdout",
          "text": [
            "Digite a nota 1 (0 a 5): 4\n",
            "Digite a nota 2 (0 a 5): 3\n",
            "Digite a nota 3 (0 a 5): 2\n",
            "Digite a nota 4 (0 a 5): 4\n",
            "Digite a nota 5 (0 a 5): 5\n",
            "Digite a nota 6 (0 a 5): 6\n",
            "❌ Nota inválida! Digite um valor entre 0 e 5.\n",
            "Digite a nota 6 (0 a 5): 4\n",
            "Digite a nota 7 (0 a 5): 3\n",
            "Digite a nota 8 (0 a 5): 2\n",
            "Digite a nota 9 (0 a 5): 1\n",
            "Digite a nota 10 (0 a 5): `\n",
            "❌ Entrada inválida! Digite apenas números.\n",
            "Digite a nota 10 (0 a 5): 1\n",
            "Digite a nota 11 (0 a 5): \n",
            "❌ Entrada inválida! Digite apenas números.\n",
            "Digite a nota 11 (0 a 5): 2\n",
            "Digite a nota 12 (0 a 5): 2\n",
            "Digite a nota 13 (0 a 5): 2\n",
            "Digite a nota 14 (0 a 5): 2\n",
            "Digite a nota 15 (0 a 5): \n",
            "❌ Entrada inválida! Digite apenas números.\n",
            "Digite a nota 15 (0 a 5): 1\n",
            "\n",
            "✅ Todas as notas foram registradas com sucesso!\n",
            "Notas inseridas: [4.0, 3.0, 2.0, 4.0, 5.0, 4.0, 3.0, 2.0, 1.0, 1.0, 2.0, 2.0, 2.0, 2.0, 1.0]\n"
          ]
        }
      ]
    },
    {
      "cell_type": "code",
      "source": [
        "raca_caes = ['Labrador Retriever',\n",
        "             'Bulldog Francês',\n",
        "             'Pastor Alemão',\n",
        "             'Poodle']\n",
        "raca_caes.insert(1, 'Golden Retriever')\n",
        "raca_caes"
      ],
      "metadata": {
        "colab": {
          "base_uri": "https://localhost:8080/"
        },
        "id": "QqCy17L7tHLX",
        "outputId": "d802ff16-aae0-4481-ceb2-de49c42fc8dc"
      },
      "execution_count": 6,
      "outputs": [
        {
          "output_type": "execute_result",
          "data": {
            "text/plain": [
              "['Labrador Retriever',\n",
              " 'Golden Retriever',\n",
              " 'Bulldog Francês',\n",
              " 'Pastor Alemão',\n",
              " 'Poodle']"
            ]
          },
          "metadata": {},
          "execution_count": 6
        }
      ]
    },
    {
      "cell_type": "code",
      "source": [],
      "metadata": {
        "id": "rOjHD-KHtO1w"
      },
      "execution_count": 5,
      "outputs": []
    }
  ]
}